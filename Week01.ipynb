{
  "nbformat": 4,
  "nbformat_minor": 0,
  "metadata": {
    "colab": {
      "provenance": [],
      "authorship_tag": "ABX9TyNKjD+DQPIsZsSkYWdXUbiN",
      "include_colab_link": true
    },
    "kernelspec": {
      "name": "python3",
      "display_name": "Python 3"
    },
    "language_info": {
      "name": "python"
    }
  },
  "cells": [
    {
      "cell_type": "markdown",
      "metadata": {
        "id": "view-in-github",
        "colab_type": "text"
      },
      "source": [
        "<a href=\"https://colab.research.google.com/github/HansAndi/praktikum-pcvk/blob/main/Week01.ipynb\" target=\"_parent\"><img src=\"https://colab.research.google.com/assets/colab-badge.svg\" alt=\"Open In Colab\"/></a>"
      ]
    },
    {
      "cell_type": "markdown",
      "metadata": {
        "id": "EvjoRGExAx5E"
      },
      "source": [
        "Pada *Jobsheet* **Minggu 1**, mahasiswa diharapkan:\n",
        "1. Mampu membuat *Repository* di *Github*\n",
        "2. Mampu membuat *Python Notebook* di *Google Colaborator*\n",
        "3. Mampu menyimpan dan mengakses *Python Notebook* dari *Google Colaborator*\n",
        "4. Mampu Membuka *File* Citra dari *Code Python*\n",
        "5. Mampu mengakses pixel pada citra"
      ]
    },
    {
      "cell_type": "markdown",
      "metadata": {
        "id": "SVIAc7oDBxRm"
      },
      "source": [
        "# Langkah (Step) 1:\n",
        "Pada code awal, beberapa library yang akan digunakan adalah: **numpy, pandas, cv2, skimage, PIL, matplotlib**\n",
        "\n",
        "**--Bahasa--**\n",
        "\n",
        "\n",
        "**--English--**\n",
        "* [Numpy](https://www.numpy.org/) is an array manipulation library, used for linear algebra, Fourier transform, and random number capabilities.\n",
        "* [Pandas](https://pandas.pydata.org/) is a library for data manipulation and data analysis.\n",
        "* [CV2](https://opencv-python-tutroals.readthedocs.io/en/latest/py_tutorials/py_gui/py_image_display/py_image_display.html) is a library for computer vision tasks.\n",
        "* [Skimage](https://scikit-image.org/) is a library which supports image processing applications on python.\n",
        "* [Matplotlib](https://matplotlib.org/) is a library which generates figures and provides graphical user interface toolkit."
      ]
    },
    {
      "cell_type": "code",
      "source": [
        "import numpy as np\n"
      ],
      "metadata": {
        "id": "n8k_EAx7T54D"
      },
      "execution_count": null,
      "outputs": []
    }
  ]
}